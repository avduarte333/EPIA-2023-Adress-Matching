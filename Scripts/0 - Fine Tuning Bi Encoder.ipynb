{
 "cells": [
  {
   "attachments": {},
   "cell_type": "markdown",
   "metadata": {},
   "source": [
    "sentence_transformers1.py is a file equal to sentence_transformers.py in the official SBERT documentation. I just changed it to implement a callback that allows me to trigger EarlyStop on training, in case the loss is not decreasing for a user specified number of epochs."
   ]
  },
  {
   "cell_type": "code",
   "execution_count": null,
   "metadata": {},
   "outputs": [],
   "source": [
    "import torch\n",
    "from sentence_transformers import InputExample, losses, util\n",
    "import numpy as np\n",
    "import pandas as pd\n",
    "from torch.utils.data import DataLoader\n",
    "from torch import optim\n",
    "\n",
    "\n",
    "import sys\n",
    "sys.path.insert(0, '/home/SBERT_aux_files')\n",
    "import evaluating\n",
    "import sentence_transformers1"
   ]
  },
  {
   "cell_type": "markdown",
   "metadata": {},
   "source": [
    "Load Data Folder - Where Main Data Files are"
   ]
  },
  {
   "cell_type": "code",
   "execution_count": null,
   "metadata": {},
   "outputs": [],
   "source": [
    "data_folder = '/home/datasets/'\n",
    "fine_tune_data = pd.read_csv(data_folder+ \"fine_tune_Data.csv\", encoding='utf-8')\n",
    "device = torch.device(\"cuda\" if torch.cuda.is_available() else \"cpu\")"
   ]
  },
  {
   "attachments": {},
   "cell_type": "markdown",
   "metadata": {},
   "source": [
    "Load model"
   ]
  },
  {
   "cell_type": "code",
   "execution_count": null,
   "metadata": {},
   "outputs": [],
   "source": [
    "model = sentence_transformers1.SentenceTransformer('distiluse-base-multilingual-cased-v2', device=device)"
   ]
  },
  {
   "attachments": {},
   "cell_type": "markdown",
   "metadata": {},
   "source": [
    "<h3>Finetune the bi-encoder</h3>\n",
    "Then save the model on folder, for reloading next time."
   ]
  },
  {
   "cell_type": "code",
   "execution_count": null,
   "metadata": {},
   "outputs": [],
   "source": [
    "train_examples = []\n",
    "\n",
    "fine_tune_data = fine_tune_data.sample(frac=1, random_state=2319).reset_index(drop=True)\n",
    "\n",
    "#Define your train examples.\n",
    "for i in range(len(fine_tune_data)-1000):\n",
    "    train_examples.append(InputExample(texts=[fine_tune_data.iloc[i,0], fine_tune_data.iloc[i,1]], label= int(fine_tune_data.iloc[i,2])))\n",
    "\n",
    "\n",
    "evaluation_data = fine_tune_data.loc[len(fine_tune_data)-1000:len(fine_tune_data), ['Sa', 'Sb']]\n",
    "labels_evaluation = fine_tune_data.iloc[len(fine_tune_data)-1000:len(fine_tune_data),2].tolist()\n",
    "\n",
    "evaluator = evaluating.EmbeddingSimilarityEvaluator(\n",
    "                sentences1 = evaluation_data.iloc[:,0].tolist(),\n",
    "                sentences2 = evaluation_data.iloc[:,1].tolist(),\n",
    "                scores = labels_evaluation,\n",
    "                name = 'output',\n",
    "                batch_size = 32,\n",
    "                main_similarity = evaluating.SimilarityFunction.COSINE,\n",
    "                show_progress_bar = True,\n",
    "                write_csv = True\n",
    "                )\n",
    "\n",
    "\n",
    "train_dataloader = DataLoader(train_examples, shuffle=True, batch_size = 16) \n",
    "train_loss = losses.ContrastiveLoss(model = model, margin=0.5)\n",
    "\n",
    "output_path = '/home/bi_encoder tuned'\n",
    "\n",
    "#Tune the model\n",
    "model.fit(train_objectives=[(train_dataloader, train_loss)], \n",
    "            evaluator=evaluator, \n",
    "            epochs=20, \n",
    "            steps_per_epoch=len(train_dataloader), # --> default <=> 1 Epoch = DataLoader size from train_objectives\n",
    "            scheduler = 'WarmupLinear', # --> default <=> learning rate is increased from 0 up to the maximal learning rate.\n",
    "            warmup_steps=100, # After these many training steps, the learning rate is decreased linearly back to zero.\n",
    "            optimizer_class= optim.AdamW,\n",
    "            optimizer_params={'lr': 1e-5},\n",
    "            weight_decay= 0.01,\n",
    "            output_path=output_path,\n",
    "            save_best_model=True,\n",
    "            show_progress_bar=True,\n",
    "            callback = True,\n",
    "            EarlyStop_Patience = 8,\n",
    "            use_amp=True, # mixed precision for faster training\n",
    "            )"
   ]
  }
 ],
 "metadata": {
  "kernelspec": {
   "display_name": "IST_DL21_Env",
   "language": "python",
   "name": "python3"
  },
  "language_info": {
   "codemirror_mode": {
    "name": "ipython",
    "version": 3
   },
   "file_extension": ".py",
   "mimetype": "text/x-python",
   "name": "python",
   "nbconvert_exporter": "python",
   "pygments_lexer": "ipython3",
   "version": "3.8.12 (default, Oct 12 2021, 03:01:40) [MSC v.1916 64 bit (AMD64)]"
  },
  "orig_nbformat": 4,
  "vscode": {
   "interpreter": {
    "hash": "255d0d4a76dc4c1da94292112f5cbde2db979d2c3eaa22ddb07780831919fb79"
   }
  }
 },
 "nbformat": 4,
 "nbformat_minor": 2
}
