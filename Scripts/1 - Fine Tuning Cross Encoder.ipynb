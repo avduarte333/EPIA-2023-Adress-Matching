{
 "cells": [
  {
   "cell_type": "code",
   "execution_count": null,
   "metadata": {},
   "outputs": [],
   "source": [
    "import torch\n",
    "from sentence_transformers import InputExample, losses, util\n",
    "from sentence_transformers import CrossEncoder\n",
    "import sentence_transformers.cross_encoder.evaluation\n",
    "import numpy as np\n",
    "import pandas as pd\n",
    "from torch.utils.data import DataLoader\n",
    "from torch import optim\n"
   ]
  },
  {
   "cell_type": "markdown",
   "metadata": {},
   "source": [
    "Load Data Folder - Where Main Data Files are"
   ]
  },
  {
   "cell_type": "code",
   "execution_count": null,
   "metadata": {},
   "outputs": [],
   "source": [
    "data_folder = '/home/datasets/'\n",
    "fine_tune_data = pd.read_csv(data_folder+ \"tuneCrossEncoder.csv\", encoding='utf-8')\n",
    "device = torch.device(\"cuda\" if torch.cuda.is_available() else \"cpu\") ## specify the GPU id's, GPU id's start from 0."
   ]
  },
  {
   "attachments": {},
   "cell_type": "markdown",
   "metadata": {},
   "source": [
    "Load model"
   ]
  },
  {
   "cell_type": "code",
   "execution_count": null,
   "metadata": {},
   "outputs": [],
   "source": [
    "model = CrossEncoder('distilbert-base-multilingual-cased', num_labels = 1)"
   ]
  },
  {
   "attachments": {},
   "cell_type": "markdown",
   "metadata": {},
   "source": [
    "<h3>Finetune the cross-encoder</h3>\n",
    "Then save the model on folder, for reloading next time."
   ]
  },
  {
   "cell_type": "code",
   "execution_count": null,
   "metadata": {},
   "outputs": [],
   "source": [
    "train_examples = []\n",
    "\n",
    "fine_tune_data = fine_tune_data.sample(frac=1, random_state=2319).reset_index(drop=True)\n",
    "\n",
    "#Define your train examples.\n",
    "for i in range(len(fine_tune_data)-1000):\n",
    "    train_examples.append(InputExample(texts=[fine_tune_data.iloc[i,0], fine_tune_data.iloc[i,1]], label= int(fine_tune_data.iloc[i,2])))\n",
    "\n",
    "\n",
    "evaluation_data = fine_tune_data.loc[len(fine_tune_data)-1000:len(fine_tune_data), ['Sa', 'Sb']]\n",
    "labels_evaluation = fine_tune_data.iloc[len(fine_tune_data)-1000:len(fine_tune_data),2]\n",
    "\n",
    "sentence_pares = []\n",
    "for i in (range(1000)):\n",
    "    sentence_pares.append([evaluation_data.iloc[i,0], evaluation_data.iloc[i,1]])\n",
    "\n",
    "\n",
    "evaluator =  sentence_transformers.cross_encoder.evaluation.CEBinaryClassificationEvaluator(\n",
    "                sentence_pairs = sentence_pares,\n",
    "                labels = labels_evaluation.tolist(),\n",
    "                name = 'output',\n",
    "                write_csv = True\n",
    "                )\n",
    "\n",
    "train_dataloader = DataLoader(train_examples, shuffle=True, batch_size = 16) \n",
    "\n",
    "output_path = '/home/cross_encoder tuned'\n",
    "\n",
    "model.fit(train_dataloader = train_dataloader, \n",
    "            evaluator=evaluator, \n",
    "            epochs=15, \n",
    "            activation_fct = torch.nn.Sigmoid(),\n",
    "            scheduler = 'WarmupLinear', # --> default <=> learning rate is increased from 0 up to the maximal learning rate.\n",
    "            warmup_steps=100, # After these many training steps, the learning rate is decreased linearly back to zero.\n",
    "            optimizer_class= optim.AdamW,\n",
    "            optimizer_params={'lr': 1e-5},\n",
    "            weight_decay= 0.01, \n",
    "            output_path=output_path,\n",
    "            save_best_model=True,\n",
    "            show_progress_bar=True,\n",
    "            use_amp=True, # mixed precision for faster training\n",
    "            )"
   ]
  }
 ],
 "metadata": {
  "kernelspec": {
   "display_name": "lightning_test",
   "language": "python",
   "name": "python3"
  },
  "language_info": {
   "codemirror_mode": {
    "name": "ipython",
    "version": 3
   },
   "file_extension": ".py",
   "mimetype": "text/x-python",
   "name": "python",
   "nbconvert_exporter": "python",
   "pygments_lexer": "ipython3",
   "version": "3.10.8"
  },
  "orig_nbformat": 4,
  "vscode": {
   "interpreter": {
    "hash": "aac6930534f871d314aca2610c2357ec063ba4065ca1d2a97333736987f270c6"
   }
  }
 },
 "nbformat": 4,
 "nbformat_minor": 2
}
